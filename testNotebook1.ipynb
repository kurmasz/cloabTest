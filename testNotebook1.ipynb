{
  "nbformat": 4,
  "nbformat_minor": 0,
  "metadata": {
    "colab": {
      "provenance": [],
      "authorship_tag": "ABX9TyNalPbmuwNa12smKn+fPfyO",
      "include_colab_link": true
    },
    "kernelspec": {
      "name": "python3",
      "display_name": "Python 3"
    },
    "language_info": {
      "name": "python"
    }
  },
  "cells": [
    {
      "cell_type": "markdown",
      "metadata": {
        "id": "view-in-github",
        "colab_type": "text"
      },
      "source": [
        "<a href=\"https://colab.research.google.com/github/kurmasz/cloabTest/blob/main/testNotebook1.ipynb\" target=\"_parent\"><img src=\"https://colab.research.google.com/assets/colab-badge.svg\" alt=\"Open In Colab\"/></a>"
      ]
    },
    {
      "cell_type": "code",
      "execution_count": 1,
      "metadata": {
        "colab": {
          "base_uri": "https://localhost:8080/"
        },
        "id": "X1v4pL94J1c-",
        "outputId": "8c8b4276-3fb9-4699-d584-975459aef9cd"
      },
      "outputs": [
        {
          "output_type": "stream",
          "name": "stdout",
          "text": [
            "The answer is 35\n"
          ]
        }
      ],
      "source": [
        "x = 3 + 5\n",
        "y = x + 19\n",
        "print(f'The answer is {x + y}')"
      ]
    },
    {
      "cell_type": "markdown",
      "source": [
        "Now we have a text segment.\n",
        "With a a few lines\n",
        "\n",
        "\n",
        "*   And\n",
        "*   a\n",
        "* List\n",
        "\n",
        "\n"
      ],
      "metadata": {
        "id": "CWbwy0o6LuK0"
      }
    },
    {
      "cell_type": "code",
      "source": [
        "z = y + 9\n",
        "print(f'Z = {x}')"
      ],
      "metadata": {
        "id": "OsNx7FftL0gV",
        "outputId": "2a40990f-e0ad-4ea4-c9cf-22e74861070f",
        "colab": {
          "base_uri": "https://localhost:8080/"
        }
      },
      "execution_count": 2,
      "outputs": [
        {
          "output_type": "stream",
          "name": "stdout",
          "text": [
            "Z = 8\n"
          ]
        }
      ]
    }
  ]
}